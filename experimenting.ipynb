{
 "cells": [
  {
   "cell_type": "code",
   "execution_count": 29,
   "metadata": {},
   "outputs": [],
   "source": [
    "from riotwatcher import LolWatcher, ApiError, RiotWatcher\n",
    "import pandas as pd\n",
    "import json\n",
    "import matplotlib.pyplot as plt\n",
    "import seaborn as sns\n",
    "import pandas as pd\n",
    "import numpy as np"
   ]
  },
  {
   "cell_type": "code",
   "execution_count": 30,
   "metadata": {},
   "outputs": [],
   "source": [
    "api_key = 'Insert Key Here'  \n",
    "watcher1 = LolWatcher(api_key)\n",
    "my_region = 'na1'"
   ]
  },
  {
   "cell_type": "code",
   "execution_count": 31,
   "metadata": {},
   "outputs": [],
   "source": [
    "infile = open(\"runes.json\",\"r\")\n",
    "data = json.load(infile)\n",
    "infile.close()\n",
    "\n",
    "outfile = open(\"runes_fixed.json\",\"w\")\n",
    "json.dump(data,outfile,indent=4)\n",
    "outfile.close()"
   ]
  },
  {
   "cell_type": "code",
   "execution_count": 33,
   "metadata": {},
   "outputs": [],
   "source": [
    "keystones = dict()\n",
    "for tree in data:\n",
    "    slots = tree[\"slots\"][0][\"runes\"]\n",
    "    for perk in slots:\n",
    "        keystones[int(perk[\"id\"])] = perk[\"key\"]\n"
   ]
  },
  {
   "cell_type": "code",
   "execution_count": 34,
   "metadata": {},
   "outputs": [
    {
     "name": "stdout",
     "output_type": "stream",
     "text": [
      "17\n"
     ]
    }
   ],
   "source": [
    "print(len(keystones))"
   ]
  },
  {
   "cell_type": "code",
   "execution_count": 35,
   "metadata": {},
   "outputs": [],
   "source": [
    "outfile = open(\"rune_dict.json\",\"w\")\n",
    "json.dump(keystones,outfile,indent=4)\n",
    "outfile.close()"
   ]
  },
  {
   "cell_type": "code",
   "execution_count": 36,
   "metadata": {},
   "outputs": [],
   "source": [
    "me = watcher1.summoner.by_name(my_region, \"Squatwaboo\")\n",
    "game_count = 20\n",
    "my_match_ids = watcher1.match.matchlist_by_puuid(my_region, me['puuid'],count=game_count)\n",
    "data = []\n",
    "for entry in my_match_ids:\n",
    "    data.append(watcher1.match.by_id(my_region,entry))"
   ]
  },
  {
   "cell_type": "code",
   "execution_count": 37,
   "metadata": {},
   "outputs": [],
   "source": [
    "outfile = open(\"bug_data.json\",\"w\")\n",
    "json.dump(data,outfile,indent=4)\n",
    "outfile.close()"
   ]
  },
  {
   "cell_type": "code",
   "execution_count": null,
   "metadata": {},
   "outputs": [],
   "source": []
  }
 ],
 "metadata": {
  "kernelspec": {
   "display_name": "base",
   "language": "python",
   "name": "python3"
  },
  "language_info": {
   "codemirror_mode": {
    "name": "ipython",
    "version": 3
   },
   "file_extension": ".py",
   "mimetype": "text/x-python",
   "name": "python",
   "nbconvert_exporter": "python",
   "pygments_lexer": "ipython3",
   "version": "3.8.8"
  },
  "orig_nbformat": 4
 },
 "nbformat": 4,
 "nbformat_minor": 2
}
