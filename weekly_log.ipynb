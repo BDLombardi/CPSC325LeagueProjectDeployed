{
 "cells": [
  {
   "attachments": {},
   "cell_type": "markdown",
   "metadata": {},
   "source": [
    "## CPSC 325 Log\n",
    "\n",
    "Ben Lombardi\n",
    "\n",
    "\n"
   ]
  },
  {
   "attachments": {},
   "cell_type": "markdown",
   "metadata": {},
   "source": [
    "### 1/30 - 2/3 \n",
    "\n",
    "* Got a RIOT Developer API Key and looked through the documentation of the League of Legends API. Realized there was a lot more than I thought that there was. Also the RIOT Developer API Key gives me access to other games made by RIOT such as LOR, TFT, and Valorant. \n",
    "* Read through SMITE API Docs. Requested key, but have not heard back from them yet. "
   ]
  },
  {
   "attachments": {},
   "cell_type": "markdown",
   "metadata": {},
   "source": [
    "### 2/4 - 2/10\n",
    "\n",
    "* Started working with the RIOT API - requesting some match history of friends.\n",
    "* Smite API is not really accessible at that moment. Did some more digging and found out that the form to request the key is too full to accept submissions, and my request did not go through. I do not think that the API is updated/monitored by the SMITE developers so I think that I am going to have to axe this idea which is a bummer. \n",
    "* Also started working on some courses and the Coursera course requires a credit card and the google classes require cloud credits. I cannot seem to get the redeemed cloud credits with the coupon to work with this. \n",
    "* Made a lot of progress with the RIOT API, started request match data and parsing through what exactly in the json response is useful. There is arguable too much information. I might try and put together a basic tensor flow NN to predict the winner based on team composition over the weekend. "
   ]
  },
  {
   "attachments": {},
   "cell_type": "markdown",
   "metadata": {},
   "source": [
    "2/11 - 2/17\n",
    "\n",
    "* Made a lot of progress on the RIOT API. It definitely has the information that I need. I looked more into the rate limits and getting a better developer key. I will need to apply for that to get better rate limits and a permanent key (currently have to regenerate my key every 24 hours). It looks like the application takes 1-2 weeks to go through, but I need some more information on the final shape of my project before I finish the application. \n",
    "* I also applied for cloud credits for the courses but they said that it will take 1-2 weeks. \n",
    "* In the meantime, I have been working on putting my code to request info from the RIOT API on cloud run and use pub sub. \n",
    "* Just uploaded some test data to big queury. Ran into some problems with it uploading the league data straight from the API request due to some key formatting issues, so I think that I am going to have to do some precleaning/aggregation of the data before I upload it. \n",
    "* Also have been exploring some tutorials on make an interative dashboard in the cloud and whether or not I should use tabluea.\n",
    "* Started setting up a test-demo flask app (html dashboardy thing?) on google cloud to display some info I uploaded to BigQueuery."
   ]
  },
  {
   "attachments": {},
   "cell_type": "markdown",
   "metadata": {},
   "source": [
    "2/18 - 2/24 \n",
    "\n",
    "* Deployed an app on the google app engine that displays some info I uploaded to BigQueury\n",
    "* Also have on the app a form that logs the input - made as proof of concept so that eventually it will make a request to to the RIOT API and display some information \n",
    "* Finally got the training credits.\n",
    "* Have a very simple demo working on google app engine. \n",
    "* Gonna start exploring more on the efficacy of training a nueral net on the cloud vs. locally and the costs benefit of both. "
   ]
  },
  {
   "attachments": {},
   "cell_type": "markdown",
   "metadata": {},
   "source": [
    "2/18 - 2/24\n",
    "* Spend a good chunk of time writing the project proposal and exploring the costs of the project \n",
    "* As part of this time I spent a lot of time exploring vertex AI and how to use notebooks in there\n",
    "* Also spent a good chunk of time looking at pytorch documentation "
   ]
  },
  {
   "attachments": {},
   "cell_type": "markdown",
   "metadata": {},
   "source": [
    "2/25 - 3/3 \n",
    "* Worked a little bit on reading how to do multithreading with cuda in pytorch \n",
    "* worked through a couple of tutorials with vertex AI \n",
    "* starting to put together the tutorial on vertex AI"
   ]
  },
  {
   "attachments": {},
   "cell_type": "markdown",
   "metadata": {},
   "source": [
    "3/4 - 3/10\n",
    "* Didn't do too much this week. Was pretty busy between midterms, putting the tutorial together, and visiting grad programs. \n",
    "* Was looking at best ways to assemble my match history dataset and from what I have found there are lists of usernames on the internet that I can pull from the API to get a representative sample of matches. Looking more into this"
   ]
  },
  {
   "attachments": {},
   "cell_type": "markdown",
   "metadata": {},
   "source": [
    "3/19 - 3/25\n",
    "\n",
    "* Finally got API key\n",
    "* started building dataset for training set\n",
    "* started working on dashboard for the web app."
   ]
  },
  {
   "cell_type": "markdown",
   "metadata": {},
   "source": []
  }
 ],
 "metadata": {
  "kernelspec": {
   "display_name": "Python 3",
   "language": "python",
   "name": "python3"
  },
  "language_info": {
   "name": "python",
   "version": "3.11.1"
  },
  "orig_nbformat": 4,
  "vscode": {
   "interpreter": {
    "hash": "ea9bf3bbc60699924a510319ba60c5ae743c4480e22c7128e59acbeaac2706ed"
   }
  }
 },
 "nbformat": 4,
 "nbformat_minor": 2
}
