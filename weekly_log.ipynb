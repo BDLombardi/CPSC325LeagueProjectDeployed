{
 "cells": [
  {
   "attachments": {},
   "cell_type": "markdown",
   "metadata": {},
   "source": [
    "## CPSC 325 Log\n",
    "\n",
    "Ben Lombardi\n",
    "\n",
    "\n"
   ]
  },
  {
   "attachments": {},
   "cell_type": "markdown",
   "metadata": {},
   "source": [
    "### 1/30 - 2/3 \n",
    "\n",
    "* Got a RIOT Developer API Key and looked through the documentation of the League of Legends API. Realized there was a lot more than I thought that there was. Also the RIOT Developer API Key gives me access to other games made by RIOT such as LOR, TFT, and Valorant. \n",
    "* Read through SMITE API Docs. Requested key, but have not heard back from them yet. "
   ]
  },
  {
   "cell_type": "markdown",
   "metadata": {},
   "source": []
  }
 ],
 "metadata": {
  "language_info": {
   "name": "python"
  },
  "orig_nbformat": 4
 },
 "nbformat": 4,
 "nbformat_minor": 2
}
