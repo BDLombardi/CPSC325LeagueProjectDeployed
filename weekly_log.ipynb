{
 "cells": [
  {
   "attachments": {},
   "cell_type": "markdown",
   "metadata": {},
   "source": [
    "## CPSC 325 Log\n",
    "\n",
    "Ben Lombardi\n",
    "\n",
    "\n"
   ]
  },
  {
   "attachments": {},
   "cell_type": "markdown",
   "metadata": {},
   "source": [
    "### 1/30 - 2/3 \n",
    "\n",
    "* Got a RIOT Developer API Key and looked through the documentation of the League of Legends API. Realized there was a lot more than I thought that there was. Also the RIOT Developer API Key gives me access to other games made by RIOT such as LOR, TFT, and Valorant. \n",
    "* Read through SMITE API Docs. Requested key, but have not heard back from them yet. "
   ]
  },
  {
   "attachments": {},
   "cell_type": "markdown",
   "metadata": {},
   "source": [
    "### 2/4 - 2/10\n",
    "\n",
    "* Started working with the RIOT API - requesting some match history of friends.\n",
    "* Smite API is not really accessible at that moment. Did some more digging and found out that the form to request the key is too full to accept submissions, and my request did not go through. I do not think that the API is updated/monitored by the SMITE developers so I think that I am going to have to axe this idea which is a bummer. \n",
    "* Also started working on some courses and the Coursera course requires a credit card and the google classes require cloud credits. I cannot seem to get the redeemed cloud credits with the coupon to work with this. \n",
    "* Made a lot of progress with the RIOT API, started request match data and parsing through what exactly in the json response is useful. There is arguable too much information. I might try and put together a basic tensor flow NN to predict the winner based on team composition over the weekend. "
   ]
  },
  {
   "attachments": {},
   "cell_type": "markdown",
   "metadata": {},
   "source": [
    "2/11 - 2/17\n",
    "\n",
    "* Made a lot of progress on the RIOT API. It definitely has the information that I need. I looked more into the rate limits and getting a better developer key. I will need to apply for that to get better rate limits and a permanent key (currently have to regenerate my key every 24 hours). It looks like the application takes 1-2 weeks to go through, but I need some more information on the final shape of my project before I finish the application. \n",
    "* I also applied for cloud credits for the courses but they said that it will take 1-2 weeks. \n",
    "* In the meantime, I have been working on putting my code to request info from the RIOT API on cloud run and use pub sub. "
   ]
  },
  {
   "cell_type": "markdown",
   "metadata": {},
   "source": []
  }
 ],
 "metadata": {
  "kernelspec": {
   "display_name": "Python 3",
   "language": "python",
   "name": "python3"
  },
  "language_info": {
   "name": "python",
   "version": "3.11.1"
  },
  "orig_nbformat": 4,
  "vscode": {
   "interpreter": {
    "hash": "ea9bf3bbc60699924a510319ba60c5ae743c4480e22c7128e59acbeaac2706ed"
   }
  }
 },
 "nbformat": 4,
 "nbformat_minor": 2
}
