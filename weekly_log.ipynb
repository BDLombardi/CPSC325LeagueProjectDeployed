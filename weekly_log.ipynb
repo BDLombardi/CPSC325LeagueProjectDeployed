{
 "cells": [
  {
   "attachments": {},
   "cell_type": "markdown",
   "metadata": {},
   "source": [
    "## CPSC 325 Log\n",
    "\n",
    "Ben Lombardi\n",
    "\n",
    "\n"
   ]
  },
  {
   "attachments": {},
   "cell_type": "markdown",
   "metadata": {},
   "source": [
    "### 1/30 - 2/3 \n",
    "\n",
    "* Got a RIOT Developer API Key and looked through the documentation of the League of Legends API. Realized there was a lot more than I thought that there was. Also the RIOT Developer API Key gives me access to other games made by RIOT such as LOR, TFT, and Valorant. \n",
    "* Read through SMITE API Docs. Requested key, but have not heard back from them yet. "
   ]
  },
  {
   "attachments": {},
   "cell_type": "markdown",
   "metadata": {},
   "source": [
    "### 2/4 - 2/10\n",
    "\n",
    "* Started working with the RIOT API - requesting some match history of friends.\n",
    "* Smite API is not really accessible at that moment. \n",
    "* Also started working on some courses and the Coursera course requires a credit card and the google classes require cloud credits. "
   ]
  },
  {
   "cell_type": "markdown",
   "metadata": {},
   "source": []
  }
 ],
 "metadata": {
  "kernelspec": {
   "display_name": "Python 3",
   "language": "python",
   "name": "python3"
  },
  "language_info": {
   "name": "python",
   "version": "3.11.1 (tags/v3.11.1:a7a450f, Dec  6 2022, 19:58:39) [MSC v.1934 64 bit (AMD64)]"
  },
  "orig_nbformat": 4,
  "vscode": {
   "interpreter": {
    "hash": "ea9bf3bbc60699924a510319ba60c5ae743c4480e22c7128e59acbeaac2706ed"
   }
  }
 },
 "nbformat": 4,
 "nbformat_minor": 2
}
